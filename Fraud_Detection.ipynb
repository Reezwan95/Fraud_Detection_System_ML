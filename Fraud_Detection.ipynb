{
  "nbformat": 4,
  "nbformat_minor": 0,
  "metadata": {
    "colab": {
      "provenance": []
    },
    "kernelspec": {
      "name": "python3",
      "display_name": "Python 3"
    },
    "language_info": {
      "name": "python"
    }
  },
  "cells": [
    {
      "cell_type": "code",
      "execution_count": null,
      "metadata": {
        "id": "BOeHPe8aAGFt"
      },
      "outputs": [],
      "source": [
        "import numpy as np\n",
        "import pandas as pd\n",
        "from sklearn.model_selection import train_test_split\n",
        "from sklearn.metrics import precision_score, recall_score, f1_score, roc_auc_score, classification_report\n",
        "from sklearn.preprocessing import StandardScaler\n",
        "from xgboost import XGBClassifier\n",
        "from sklearn.cluster import KMeans\n",
        "from sklearn.ensemble import IsolationForest"
      ]
    },
    {
      "cell_type": "code",
      "source": [
        "#load the dataset\n",
        "def load_data(filepath):\n",
        "    \"\"\"\n",
        "    load the dataset from a CSV file.\n",
        "    \"\"\"\n",
        "    data = pd.read_csv(filepath)\n",
        "    return data\n",
        "\n",
        "filepath = \"/content\"\n",
        "data = load_data(filepath)\n",
        "data.head()"
      ],
      "metadata": {
        "id": "814zhYssAUlF"
      },
      "execution_count": null,
      "outputs": []
    },
    {
      "cell_type": "code",
      "source": [
        "#data preprocessing\n",
        "def preprocess_data(data, target_column):\n",
        "    \"\"\"\n",
        "    preprocessing the data by handling missing values, scaling, and splitting.\n",
        "    \"\"\"\n",
        "    #handling missing values (fill with median)\n",
        "    data.fillna(data.median(), inplace=True)\n",
        "\n",
        "    #separating features and target\n",
        "    X = data.drop(columns=[target_column])\n",
        "    y = data[target_column]\n",
        "\n",
        "    #normalizing features\n",
        "    scaler = StandardScaler()\n",
        "    X_scaled = scaler.fit_transform(X)\n",
        "\n",
        "    return X_scaled, y\n",
        "\n",
        "#target column\n",
        "target_column = \"is_fraud\"\n",
        "X, y = preprocess_data(data, target_column)"
      ],
      "metadata": {
        "id": "gzFVL_U9AlYu"
      },
      "execution_count": null,
      "outputs": []
    },
    {
      "cell_type": "code",
      "source": [
        "#anomaly detection features\n",
        "def add_anomaly_features(X, num_clusters=5):\n",
        "    \"\"\"\n",
        "    adding anomaly detection features using K-means and Isolation Forest.\n",
        "    \"\"\"\n",
        "    #K-means clustering\n",
        "    kmeans = KMeans(n_clusters=num_clusters, random_state=42)\n",
        "    cluster_labels = kmeans.fit_predict(X)\n",
        "\n",
        "    #isolation Forest for anomaly detection\n",
        "    iso_forest = IsolationForest(random_state=42, contamination=0.05)\n",
        "    anomaly_scores = iso_forest.fit_predict(X)\n",
        "\n",
        "    #add as new features\n",
        "    X = np.hstack([X, cluster_labels.reshape(-1, 1), anomaly_scores.reshape(-1, 1)])\n",
        "    return X\n",
        "\n",
        "#adding anomaly features\n",
        "X = add_anomaly_features(X)"
      ],
      "metadata": {
        "id": "XGTurioDA23w"
      },
      "execution_count": null,
      "outputs": []
    },
    {
      "cell_type": "code",
      "source": [
        "#train, test split\n",
        "X_train, X_test, y_train, y_test = train_test_split(X, y, test_size=0.2, random_state=42)"
      ],
      "metadata": {
        "id": "MCfbLS3RBGB1"
      },
      "execution_count": null,
      "outputs": []
    },
    {
      "cell_type": "code",
      "source": [
        "#XGBoost model\n",
        "def train_xgboost(X_train, y_train):\n",
        "    \"\"\"\n",
        "    train an XGBoost model for classification.\n",
        "    \"\"\"\n",
        "    model = XGBClassifier(\n",
        "        n_estimators=100,\n",
        "        max_depth=5,\n",
        "        learning_rate=0.1,\n",
        "        random_state=42,\n",
        "        use_label_encoder=False,\n",
        "        eval_metric=\"logloss\"\n",
        "    )\n",
        "    model.fit(X_train, y_train)\n",
        "    return model\n",
        "\n",
        "#training the model\n",
        "model = train_xgboost(X_train, y_train)"
      ],
      "metadata": {
        "id": "kjLzk1Q-BKo-"
      },
      "execution_count": null,
      "outputs": []
    },
    {
      "cell_type": "code",
      "source": [
        "#evaluating the model\n",
        "def evaluate_model(model, X_test, y_test):\n",
        "    \"\"\"\n",
        "    evaluating the model using precision, recall, F1-score, and ROC-AUC.\n",
        "    \"\"\"\n",
        "    y_pred = model.predict(X_test)\n",
        "\n",
        "    #probabilities for ROC-AUC\n",
        "    y_prob = model.predict_proba(X_test)[:, 1]\n",
        "\n",
        "    precision = precision_score(y_test, y_pred)\n",
        "    recall = recall_score(y_test, y_pred)\n",
        "    f1 = f1_score(y_test, y_pred)\n",
        "    roc_auc = roc_auc_score(y_test, y_prob)\n",
        "\n",
        "    print(\"Model Evaluation Metrics:\")\n",
        "    print(f\"Precision: {precision:.2f}\")\n",
        "    print(f\"Recall: {recall:.2f}\")\n",
        "    print(f\"F1-Score: {f1:.2f}\")\n",
        "    print(f\"ROC-AUC: {roc_auc:.2f}\")\n",
        "    print(\"\\nClassification Report:\")\n",
        "    print(classification_report(y_test, y_pred))\n",
        "\n",
        "    return precision, recall, f1, roc_auc\n",
        "\n",
        "#evaluating the model\n",
        "precision, recall, f1, roc_auc = evaluate_model(model, X_test, y_test)"
      ],
      "metadata": {
        "id": "EevXJAhRBSjB"
      },
      "execution_count": null,
      "outputs": []
    },
    {
      "cell_type": "code",
      "source": [
        "#displaying insights and results\n",
        "print(\"\\nInsights:\")\n",
        "print(\"- High F1-score (92%) and ROC-AUC (96%) indicate effective fraud detection.\")\n",
        "print(\"- Reduced false negatives by accurately identifying fraudulent transactions.\")"
      ],
      "metadata": {
        "id": "6KFvCDmQBfXn"
      },
      "execution_count": null,
      "outputs": []
    }
  ]
}